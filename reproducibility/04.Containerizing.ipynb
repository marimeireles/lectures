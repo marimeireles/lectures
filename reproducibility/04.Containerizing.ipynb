{
 "cells": [
  {
   "cell_type": "markdown",
   "id": "f80e5f5c-d3a0-4801-9cd1-4f4785d8550f",
   "metadata": {},
   "source": [
    "# Containerizing"
   ]
  },
  {
   "cell_type": "code",
   "execution_count": null,
   "id": "650e81e7-253b-4554-8bfa-1db7b2820cba",
   "metadata": {},
   "outputs": [],
   "source": []
  }
 ],
 "metadata": {
  "kernelspec": {
   "display_name": "Python 3 (ipykernel)",
   "language": "python",
   "name": "python3"
  },
  "language_info": {
   "codemirror_mode": {
    "name": "ipython",
    "version": 3
   },
   "file_extension": ".py",
   "mimetype": "text/x-python",
   "name": "python",
   "nbconvert_exporter": "python",
   "pygments_lexer": "ipython3",
   "version": "3.9.11"
  }
 },
 "nbformat": 4,
 "nbformat_minor": 5
}
