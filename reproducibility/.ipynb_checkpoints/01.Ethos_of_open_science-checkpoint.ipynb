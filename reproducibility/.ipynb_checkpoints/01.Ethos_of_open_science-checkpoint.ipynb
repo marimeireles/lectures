{
 "cells": [
  {
   "cell_type": "markdown",
   "id": "55dbbde2-c1c6-4ea4-97e7-a498c4f33dc8",
   "metadata": {},
   "source": [
    "👥 What do you know about Open Science and reproducible science?"
   ]
  },
  {
   "cell_type": "markdown",
   "id": "b63fe299-6c53-4ae6-973b-359f051816c4",
   "metadata": {},
   "source": [
    "# Ethos of open science\n",
    "\n",
    "### What is open science\n",
    "\n",
    "Means to make science accessible to all. It's a theme that encompasses many different areas and in this session we'll both look at the community and the technical aspects of it."
   ]
  },
  {
   "cell_type": "markdown",
   "id": "13c108bc-690b-4566-8865-9339fa35d985",
   "metadata": {},
   "source": [
    "**Open access**\n",
    "\n",
    "- Open access papers\n",
    "- Availability of code\n",
    "\n",
    "**Open data**\n",
    "\n",
    "- Public data repositories\n",
    "- Data formatting standardizing\n",
    "\n",
    "**Open software**\n",
    "\n",
    "- Open science software ecossystem (NumFOCUS tools, etc.)\n",
    "- Open source software ecossystem that supports the scientific ecossystem (\n",
    "\n",
    "**Open community practices**\n",
    "\n",
    "- Community oriented resources\n",
    "    - Documentation, tutorial, code of conduct, chat rooms, forums, meetups"
   ]
  },
  {
   "cell_type": "markdown",
   "id": "f8164f6b-f531-446d-a686-69da71b48fa0",
   "metadata": {},
   "source": [
    "<img src=\"img/open.png\" width=\"700\"/>"
   ]
  },
  {
   "cell_type": "markdown",
   "id": "1b75b7ef-e4a3-4d4a-84ce-e3f9deca7fcc",
   "metadata": {},
   "source": [
    "## Benefits and challanges of responsible open science\n",
    "\n",
    "It's important to identify your stakeholders and understand a few steps of the process of making your research public. \n",
    "\n",
    "Learning about your public and contributors will help you write directed, effective content. Understanding about the ecossystem in which your research is immersed will help you be prepared for dealing with the eventual problems you might face.\n",
    "\n",
    "\n",
    "**Stakeholders**\n",
    "\n",
    "- Researchers\n",
    "- Consumers (e.g industry, general public, etc.)\n",
    "- Scientific journals\n",
    "\n",
    "**Benefits of open science**\n",
    "\n",
    "- Improves verifiability [[1]](https://szociologia.tk.hu/uploads/files/archive/john_et_al_2012.pdf) (e.g Volkswagen)\n",
    "- Valuable for the public sector (e.g Polis in Taiwan, Public money public code)\n",
    "- Response to societal prolems (e.g Covid, climate change)\n",
    "- Less repetition\n",
    "- Career benefits\n",
    "- Cheaper (e.g Common Voice)\n",
    "\n",
    "**Challanges**\n",
    "\n",
    "- Data consent (e.g Cambridge analytica)\n",
    "- Documentation, using standards (e.g licenses, CoC)\n",
    "- Unethical open source use (e.g ICE, millitary)\n",
    "    - [Ethical Source](http://ethicalsource.dev/), [First do no harm](https://firstdonoharm.dev/)"
   ]
  }
 ],
 "metadata": {
  "kernelspec": {
   "display_name": "Python 3 (ipykernel)",
   "language": "python",
   "name": "python3"
  },
  "language_info": {
   "codemirror_mode": {
    "name": "ipython",
    "version": 3
   },
   "file_extension": ".py",
   "mimetype": "text/x-python",
   "name": "python",
   "nbconvert_exporter": "python",
   "pygments_lexer": "ipython3",
   "version": "3.9.11"
  }
 },
 "nbformat": 4,
 "nbformat_minor": 5
}
