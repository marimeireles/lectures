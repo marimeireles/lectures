{
 "cells": [
  {
   "cell_type": "markdown",
   "id": "23d56a0c-a0dd-4a86-beaa-b31d01c4c56d",
   "metadata": {},
   "source": [
    "# General Tools for Reproducible Science\n",
    "\n",
    "On this and the next few notebooks we're going to take a look in different tools to assist you in your open science pursue and that at the same time will save you time and resources to do better reproducible science.\n",
    "\n",
    "On this notebook we cover versioning system tools and tools useful for sharing code in the web. Further on we will explore toolsets to build robust softwares that will run in any system.\n",
    "\n",
    "Before getting into the details of versioning system tools and websites, I'd like to add a note that Github is not the only place for that. Github is a Microsoft owned company and it's not open source, it allows you to host your code for free and perform many free operations but it's still under a large organization's roadmap. If you prefer an open source alternative that uses the same versioning system tool as Github and has very similar UI you can try [Gitlab](https://gitlab.com), there are other alternatives out there too like Bitbucket and Jira.\n",
    "\n",
    "For this guide we will focus on Github because of its dominant market-share.\n",
    "\n",
    "## Github\n",
    "\n",
    "Github is not only useful for reproducible science because it makes it easier for you to share your code with peers, it's also a great tool for putting your code in the open.\n",
    "\n",
    "It's also a good software practice to always have your code saved in a versioning control system.\n",
    "Github leverages `git` as its versioning control system.\n",
    "\n",
    "Let's take a look on the kinds of things you can do with it."
   ]
  },
  {
   "cell_type": "markdown",
   "id": "9575053a-cc91-442a-bcfe-4ebf89de0b53",
   "metadata": {},
   "source": [
    "### Important concepts and words\n",
    "\n",
    "**Repository**: the place where your code lies, usually a URL of some kind\n",
    "\n",
    "**Remote**: nicknames on your computer for your repositories"
   ]
  },
  {
   "cell_type": "markdown",
   "id": "601cee08-72bf-4cf0-be01-64f89c7b7525",
   "metadata": {},
   "source": [
    "![](img/ghintro.png)"
   ]
  },
  {
   "cell_type": "markdown",
   "id": "209b7db2-42a8-4a52-ae07-97f9ecb78ed5",
   "metadata": {},
   "source": [
    "**Commit**: a snapshot of your Git repository at a point in time\n",
    "\n",
    "**Branch**: a bifurcation of the code, from this part on, it will be different from wherever you came from\n",
    "\n",
    "**Pull request**: you ask to merge your local changes on to the upstream repository"
   ]
  },
  {
   "cell_type": "markdown",
   "id": "003aed04-f92f-4157-a5c0-92869ada3df1",
   "metadata": {},
   "source": [
    "![](img/commit.png)"
   ]
  },
  {
   "cell_type": "markdown",
   "id": "a40ecdd0-90b2-48ca-a287-a67e9b45e8cb",
   "metadata": {},
   "source": [
    "### The basics of how to contribute\n",
    "\n",
    "The next image is showing the step-by-step process on how to contribute to an existing Github repository.\n",
    "\n",
    "To be able to run these commands you'll need to install `git` in your computer. Each operational system has a different way of doing this.\n",
    "\n",
    "Once you installed the software you'll also need a Github account and complete a [series of steps](https://docs.github.com/en/authentication/connecting-to-github-with-ssh/adding-a-new-ssh-key-to-your-github-account) to be certificated inside Github's system.\n",
    "\n",
    "Even though this process may seem like a bit too envolved, I recommend it because it will make everything easier in the future. You'll only have to do it once!"
   ]
  },
  {
   "cell_type": "markdown",
   "id": "9a3b869d-244e-40f7-8133-cbf7de480799",
   "metadata": {},
   "source": [
    "```bash\n",
    "# clone the repo\n",
    "git clone git@git_repo.git\n",
    "\n",
    "# by default you're in the main/master branch, create a new one just for your specific changes\n",
    "git checkout -b my_changes\n",
    "\n",
    "# go to your branch\n",
    "git checkout my_changes\n",
    "\n",
    "# change things\n",
    "\n",
    "# add and commit them to your branch\n",
    "git add each_file_path # or use . to choose all\n",
    "git commit -m \"A descriptive short commit msg goes here\"\n",
    "\n",
    "# push these changes to your remote, usually called origin\n",
    "git push origin my_changes\n",
    "\n",
    "# go to the github page of the project you want to contribute to (not to your personal page!) and there will be a button that only shows up when you have divergences from your origin remote in comparison to the upstream, open a PR\n",
    "```"
   ]
  },
  {
   "cell_type": "markdown",
   "id": "db2195f4-9194-4cfb-8df9-6a540ea03905",
   "metadata": {},
   "source": [
    "### Resolving conflicts\n",
    "\n",
    "The following commands are recommended for advanced users only. They're useful to deal with conflict resolution.\n",
    "\n",
    "Besides this small list of commands, I also recommend users to have a a GUI to resolve conflicts. Some very famous tools are Sublime Merge and VSCode (with plugins), but there are many others.\n",
    "\n",
    "You'll use the GUI tool after using the `git rebase -i master` command, in order to make the necessary changes."
   ]
  },
  {
   "cell_type": "markdown",
   "id": "d65c72e2-baef-4d5b-a8a7-e595266d9bc8",
   "metadata": {},
   "source": [
    "```bash\n",
    "git checkout master\n",
    "git pull upstream master\n",
    "git push origin master\n",
    "git checkout your_local_branch\n",
    "git rebase -i master\n",
    "# make your changes using the GUI or your text editor\n",
    "git add modified_files\n",
    "git rebase --continue\n",
    "```"
   ]
  },
  {
   "cell_type": "markdown",
   "id": "3e53b840-96d9-4a73-a4f7-cd46a82228c6",
   "metadata": {},
   "source": [
    "### Other useful commands\n",
    "\n",
    "```bash\n",
    "# check all your remotes\n",
    "git remote -v\n",
    "\n",
    "# add a new remote\n",
    "git remote add upstream git@github.com:git.git\n",
    "\n",
    "# rename a remote\n",
    "git remote rename original_name new_name\n",
    "```"
   ]
  },
  {
   "cell_type": "markdown",
   "id": "92540f09-de17-4ad2-95ec-0d9f5a78d5b7",
   "metadata": {},
   "source": [
    "## Other tools for sharing code and improving code reproducibility\n",
    "\n",
    "### Sharing code in the web\n",
    "\n",
    "- [JupyterLite](https://jupyter.org/try-jupyter/lab/)\n",
    "- [PyScript](https://pyscript.net/)\n",
    "- [Voila](https://voila-gallery.org/)\n",
    "- [Binder](https://mybinder.org/)\n",
    "- Google Colab\n",
    "\n",
    "### Containers\n",
    "\n",
    "- Docker\n",
    "- Kubernetes"
   ]
  }
 ],
 "metadata": {
  "kernelspec": {
   "display_name": "Python 3 (ipykernel)",
   "language": "python",
   "name": "python3"
  },
  "language_info": {
   "codemirror_mode": {
    "name": "ipython",
    "version": 3
   },
   "file_extension": ".py",
   "mimetype": "text/x-python",
   "name": "python",
   "nbconvert_exporter": "python",
   "pygments_lexer": "ipython3",
   "version": "3.9.11"
  }
 },
 "nbformat": 4,
 "nbformat_minor": 5
}
