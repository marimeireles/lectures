{
 "cells": [
  {
   "cell_type": "markdown",
   "metadata": {},
   "source": [
    "# Classes with encapsulated state"
   ]
  },
  {
   "cell_type": "markdown",
   "metadata": {},
   "source": [
    "## Camping budget\n",
    "\n",
    "Source code for 3 variations: [examples/camping/](https://github.com/fluentpython/pyob2019/tree/master/examples/camping)\n",
    "\n",
    "<img src=\"img/camping-UML.png\" width=\"600\">\n",
    "\n",
    "### Camper class\n",
    "\n",
    "Class ``camping.Camper`` represents a contributor to the budget of a camping trip.\n",
    "\n",
    "```python\n",
    ">>> from camping import Camper\n",
    ">>> a = Camper('Anna')\n",
    ">>> a.pay(33)\n",
    ">>> a.display()\n",
    "'Anna paid $  33.00'\n",
    "```\n",
    "\n",
    "A camper can be created with an initial balance:\n",
    "\n",
    "```python\n",
    ">>> c = Camper('Charlie', 9)\n",
    "```\n",
    "The ``.display()`` method right-justifies the names taking into account the longest name so far, so that multiple calls show aligned columns:\n",
    "\n",
    "```\n",
    ">>> for camper in [a, c]:\n",
    "...     print(camper.display())\n",
    "   Anna paid $  33.00\n",
    "Charlie paid $   9.00\n",
    "```\n",
    "\n",
    "> The [examples/camping/dataclass](https://github.com/fluentpython/pyob2019/tree/master/examples/camping/dataclass) example shows the use of the `__post_init__` method in a dataclass.\n",
    "\n",
    "### Budget class\n",
    "\n",
    "Class ``camping.Budget`` represents the budget for a camping trip in which campers who pitched in more than average need to be reimbursed by the others.\n",
    "\n",
    "```python\n",
    ">>> from camping import Budget\n",
    ">>> b = Budget('Debbie', 'Ann', 'Bob', 'Charlie')\n",
    "```\n",
    "\n",
    "The ``__init__`` method takes a variable number of names, so it can be invoked as above, but also like this:\n",
    "\n",
    "\n",
    "```python\n",
    ">>> friends = ['Debbie', 'Ann', 'Bob', 'Charlie']\n",
    ">>> b = Budget(*friends)\n",
    "```\n",
    "\n",
    "Demonstration of the remaining methods:\n",
    "\n",
    "```python\n",
    ">>> b.total()\n",
    "0.0\n",
    ">>> b.people()\n",
    "['Ann', 'Bob', 'Charlie', 'Debbie']\n",
    ">>> b.contribute(\"Bob\", 50.00)\n",
    ">>> b.contribute(\"Debbie\", 40.00)\n",
    ">>> b.contribute(\"Ann\", 10.00)\n",
    ">>> b.total()\n",
    "100.0\n",
    "```\n",
    "\n",
    "The ``.report()`` method lists who should receive or pay, and the respective amounts.\n",
    "\n",
    "```\n",
    ">>> b.report()\n",
    "Total: $ 100.00; individual share: $ 25.00\n",
    "------------------------------------------\n",
    "Charlie paid $   0.00, balance: $  -25.00\n",
    "    Ann paid $  10.00, balance: $  -15.00\n",
    " Debbie paid $  40.00, balance: $   15.00\n",
    "    Bob paid $  50.00, balance: $   25.00\n",
    "```"
   ]
  },
  {
   "cell_type": "markdown",
   "metadata": {},
   "source": [
    "### Sidebar: private attributes"
   ]
  },
  {
   "cell_type": "code",
   "execution_count": 1,
   "metadata": {},
   "outputs": [
    {
     "data": {
      "text/plain": [
       "'gold'"
      ]
     },
     "execution_count": 1,
     "metadata": {},
     "output_type": "execute_result"
    }
   ],
   "source": [
    "class BlackBox:\n",
    "    \n",
    "    def __init__(self, top_content, bottom_content):\n",
    "        self._top = top_content\n",
    "        self.__bottom = bottom_content\n",
    "        \n",
    "b = BlackBox('gold', 'diamonds')\n",
    "\n",
    "b._top"
   ]
  },
  {
   "cell_type": "code",
   "execution_count": 2,
   "metadata": {},
   "outputs": [
    {
     "data": {
      "text/plain": [
       "True"
      ]
     },
     "execution_count": 2,
     "metadata": {},
     "output_type": "execute_result"
    }
   ],
   "source": [
    "hasattr(b, '_top')"
   ]
  },
  {
   "cell_type": "code",
   "execution_count": 3,
   "metadata": {},
   "outputs": [
    {
     "data": {
      "text/plain": [
       "False"
      ]
     },
     "execution_count": 3,
     "metadata": {},
     "output_type": "execute_result"
    }
   ],
   "source": [
    "hasattr(b, '__bottom')"
   ]
  },
  {
   "cell_type": "code",
   "execution_count": 4,
   "metadata": {},
   "outputs": [
    {
     "data": {
      "text/plain": [
       "{'_top': 'gold', '_BlackBox__bottom': 'diamonds'}"
      ]
     },
     "execution_count": 4,
     "metadata": {},
     "output_type": "execute_result"
    }
   ],
   "source": [
    "b.__dict__"
   ]
  },
  {
   "cell_type": "code",
   "execution_count": 5,
   "metadata": {},
   "outputs": [
    {
     "data": {
      "text/plain": [
       "'diamonds'"
      ]
     },
     "execution_count": 5,
     "metadata": {},
     "output_type": "execute_result"
    }
   ],
   "source": [
    "b._BlackBox__bottom"
   ]
  },
  {
   "cell_type": "markdown",
   "metadata": {},
   "source": [
    "### Private attributes takeaways\n",
    "\n",
    "<img src=\"img/safety-switch.jpg\" width=\"300\" title=\"Safety switch with red cover\">\n",
    "\n",
    "* Python's ``__private`` attributes are a safety feature, not a security feature.\n",
    "* Pythonistas are divided: some use ``__private``, others prefer the convention ``_private``.\n",
    "* It's always possible to start with a public attribute, then transform it into a property.\n",
    "* Excessive use of getters/setters is actually weak encapsulation: the class is exposing how it keeps its state."
   ]
  }
 ],
 "metadata": {
  "kernelspec": {
   "display_name": "Python 3 (ipykernel)",
   "language": "python",
   "name": "python3"
  },
  "language_info": {
   "codemirror_mode": {
    "name": "ipython",
    "version": 3
   },
   "file_extension": ".py",
   "mimetype": "text/x-python",
   "name": "python",
   "nbconvert_exporter": "python",
   "pygments_lexer": "ipython3",
   "version": "3.10.4"
  }
 },
 "nbformat": 4,
 "nbformat_minor": 4
}
