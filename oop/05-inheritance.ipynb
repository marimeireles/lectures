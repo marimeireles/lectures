{
 "cells": [
  {
   "cell_type": "markdown",
   "metadata": {},
   "source": [
    "# Inheritance and composition\n",
    "\n",
    "Inheritance means classes have a relationship between the originary class and the derived classes, where the derived ones are a specialization of the original class. A composition is an object that might be contained in another class but they don't have a dependency relationship as in the case of inheritance.\n",
    "\n",
    "Let's dive in starting with inheritance!"
   ]
  },
  {
   "cell_type": "code",
   "execution_count": 111,
   "metadata": {},
   "outputs": [],
   "source": [
    "import random\n",
    "\n",
    "class Balls:\n",
    "    def __init__(self, items):\n",
    "        self._items = list(items)\n",
    "\n",
    "    def __iter__(self):\n",
    "        return iter(self._items)\n",
    "\n",
    "    def __len__(self):\n",
    "        return len(self._items)"
   ]
  },
  {
   "cell_type": "markdown",
   "metadata": {},
   "source": [
    "**Useful words**\n",
    "\n",
    "* **Base classes**: the first class in the hierarchy (a.k.a super classes)\n",
    "* **Derived classes**: are inherited from a base class (a.k.a subclasses, or subtypes)\n",
    "\n",
    "*A derived class is said to derive, inherit, or extend a base class.*\n"
   ]
  },
  {
   "cell_type": "markdown",
   "metadata": {},
   "source": [
    "**Simple inheritance**\n",
    "\n",
    "If a base class has an `__init__()` method, the derived class’s `__init__()` method, if any, must explicitly call it to ensure proper initialization of the base class part of the instance; for example: `super().__init__([args...])`."
   ]
  },
  {
   "cell_type": "code",
   "execution_count": 112,
   "metadata": {},
   "outputs": [],
   "source": [
    "import random\n",
    "\n",
    "class Tombola(Balls):\n",
    "    def __init__(self, items):\n",
    "        super().__init__(items)\n",
    "        random.shuffle(self._items)\n",
    "\n",
    "    def pop(self):\n",
    "        return self._items.pop()"
   ]
  },
  {
   "cell_type": "markdown",
   "metadata": {},
   "source": [
    "**Abstract Base Classes**\n",
    "\n",
    "Abstract base classes are meant to never be instantiated, only inherited.\n",
    "\n",
    "The Python module `abc` defines an abstract class and the `@abstractmethod` decorator should be used in the methods of the abstract class.\n",
    "\n",
    "You can also use leading underescores to indicate to the user that objects of a certain class shouldn't be created."
   ]
  },
  {
   "cell_type": "code",
   "execution_count": 113,
   "metadata": {},
   "outputs": [],
   "source": [
    "import abc\n",
    "\n",
    "class Tombola(abc.ABC):  \n",
    "\n",
    "    @abc.abstractmethod\n",
    "    def load(self, iterable):\n",
    "        \"\"\"Add items from an iterable.\"\"\"\n",
    "\n",
    "    @abc.abstractmethod\n",
    "    def pick(self):\n",
    "        \"\"\"Remove item at random, returning it.\n",
    "\n",
    "        This method should raise `LookupError` when the instance is empty.\n",
    "        \"\"\"\n",
    "\n",
    "    def loaded(self):\n",
    "        \"\"\"Return `True` if there's at least 1 item, `False` otherwise.\"\"\"\n",
    "        return bool(self.inspect())\n",
    "\n",
    "\n",
    "    def inspect(self):\n",
    "        \"\"\"Return a sorted tuple with the items currently inside.\"\"\"\n",
    "        items = []\n",
    "        while True:\n",
    "            try:\n",
    "                items.append(self.pick())\n",
    "            except LookupError:\n",
    "                break\n",
    "        self.load(items)\n",
    "        return tuple(sorted(items))"
   ]
  },
  {
   "cell_type": "markdown",
   "metadata": {},
   "source": [
    "*The substitution principle says that code for superclasses should work on all subclasses too.*"
   ]
  },
  {
   "cell_type": "code",
   "execution_count": 114,
   "metadata": {},
   "outputs": [],
   "source": [
    "import random\n",
    "\n",
    "# from tombola import Tombola\n",
    "\n",
    "class BingoCage(Tombola):  \n",
    "\n",
    "    def __init__(self, items):\n",
    "        self._randomizer = random.SystemRandom() \n",
    "        self._items = []\n",
    "        self.load(items)\n",
    "\n",
    "    def load(self, items):\n",
    "        self._items.extend(items)\n",
    "        self._randomizer.shuffle(self._items)\n",
    "\n",
    "    def pick(self):\n",
    "        try:\n",
    "            return self._items.pop()\n",
    "        except IndexError:\n",
    "            raise LookupError('pick from empty BingoCage')\n",
    "\n",
    "    def __call__(self):\n",
    "        self.pick()"
   ]
  },
  {
   "cell_type": "markdown",
   "metadata": {},
   "source": [
    "should I talk about this stuff?\n",
    "\n",
    "## Multiple Inheritance issue\n",
    "\n",
    "Diamond inheritance:\n",
    "\n",
    "## Class Explosion issue\n",
    "\n",
    "duck typing\n",
    "\n",
    "uml"
   ]
  }
 ],
 "metadata": {
  "kernelspec": {
   "display_name": "Python 3 (ipykernel)",
   "language": "python",
   "name": "python3"
  },
  "language_info": {
   "codemirror_mode": {
    "name": "ipython",
    "version": 3
   },
   "file_extension": ".py",
   "mimetype": "text/x-python",
   "name": "python",
   "nbconvert_exporter": "python",
   "pygments_lexer": "ipython3",
   "version": "3.10.4"
  }
 },
 "nbformat": 4,
 "nbformat_minor": 4
}
