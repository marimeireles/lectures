{
 "cells": [
  {
   "cell_type": "markdown",
   "id": "dbad7a89-071f-4e63-96cf-635debd310d2",
   "metadata": {},
   "source": [
    "# Exercises\n",
    "\n",
    "## Algorithms\n",
    "\n",
    "Let's look at two different kinds of search algorithms: linear and binary."
   ]
  },
  {
   "cell_type": "code",
   "execution_count": null,
   "id": "b6b416b2-2f2f-4006-8b02-6393ba0c9728",
   "metadata": {},
   "outputs": [],
   "source": [
    "def linear_search(items, desired_item):\n",
    "    for position, item in enumerate(items):\n",
    "        if item == desired_item:\n",
    "            return position\n",
    "\n",
    "    raise ValueError(\"%s was not found in the list.\" % desired_item)"
   ]
  },
  {
   "cell_type": "code",
   "execution_count": null,
   "id": "ddca7dc5-5088-4677-ab3a-86b34469fd62",
   "metadata": {},
   "outputs": [],
   "source": [
    "def binary_search(items, desired_item, start=0, end=None):\n",
    "    if end == None:\n",
    "        end = len(items)\n",
    "\n",
    "    if start == end:\n",
    "        raise ValueError(\"%s was not found in the list.\" % desired_item)\n",
    "\n",
    "    pos = (end - start) // 2 + start\n",
    "\n",
    "    if desired_item == items[pos]:\n",
    "        return pos\n",
    "    elif desired_item > items[pos]:\n",
    "        return binary_search(items, desired_item, start=(pos + 1), end=end)\n",
    "    else: # desired_item < items[pos]:\n",
    "        return binary_search(items, desired_item, start=start, end=pos)"
   ]
  },
  {
   "cell_type": "markdown",
   "id": "cd3c1d7e-096a-4ae5-890f-5402be8fe6a6",
   "metadata": {},
   "source": [
    "Create a Python array with several thousand of random elements"
   ]
  },
  {
   "cell_type": "code",
   "execution_count": null,
   "id": "b30e0ade-2a1b-4d11-9f47-bc9cc5e890f0",
   "metadata": {},
   "outputs": [],
   "source": []
  },
  {
   "cell_type": "markdown",
   "id": "5b9bcf8a-059e-44f7-855d-158bfa71136c",
   "metadata": {},
   "source": [
    "Create an optmized array either with Numpy, Pandas, etc. that contains the same amount of random elements of the previous array"
   ]
  },
  {
   "cell_type": "code",
   "execution_count": null,
   "id": "83d0c23e-2714-4af2-97b2-ed4b0ff2a405",
   "metadata": {},
   "outputs": [],
   "source": []
  },
  {
   "cell_type": "markdown",
   "id": "82e1451c-b168-4412-b6bb-0a0c99c247f5",
   "metadata": {},
   "source": [
    "Perform a simple bench mark using both arrays and both search methods. What is faster? Does it corresponds with your intuition?"
   ]
  },
  {
   "cell_type": "code",
   "execution_count": null,
   "id": "ceea778f-938b-4af7-b2ed-0b02536e52d6",
   "metadata": {},
   "outputs": [],
   "source": []
  },
  {
   "cell_type": "markdown",
   "id": "26431bd1-6245-48f5-80a6-0db20564a2d6",
   "metadata": {
    "jp-MarkdownHeadingCollapsed": true,
    "tags": []
   },
   "source": [
    "What's the O(n) complexity of each one of these? Why?"
   ]
  },
  {
   "cell_type": "code",
   "execution_count": null,
   "id": "9c13399b-facd-48a7-a15f-7f244bd74fc8",
   "metadata": {},
   "outputs": [],
   "source": []
  },
  {
   "cell_type": "markdown",
   "id": "49d5eb1a-9002-4946-8e28-792bf439e615",
   "metadata": {},
   "source": [
    "What are the circunstances where you should use one or the other kind of search? What are the cases and the specific kinds of arrays in which each search makes the most sense to be used?"
   ]
  },
  {
   "cell_type": "code",
   "execution_count": null,
   "id": "2d0a7fe6-c2ab-4803-a56e-3f8d03627423",
   "metadata": {},
   "outputs": [],
   "source": []
  }
 ],
 "metadata": {
  "kernelspec": {
   "display_name": "Python 3 (ipykernel)",
   "language": "python",
   "name": "python3"
  },
  "language_info": {
   "codemirror_mode": {
    "name": "ipython",
    "version": 3
   },
   "file_extension": ".py",
   "mimetype": "text/x-python",
   "name": "python",
   "nbconvert_exporter": "python",
   "pygments_lexer": "ipython3",
   "version": "3.9.11"
  }
 },
 "nbformat": 4,
 "nbformat_minor": 5
}
