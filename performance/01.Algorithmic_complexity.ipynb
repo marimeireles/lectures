{
 "cells": [
  {
   "cell_type": "markdown",
   "id": "6f2f15ba-2035-484b-8f2a-8939a3fbdfbf",
   "metadata": {},
   "source": [
    "# Introduction to Software Profiling\n",
    "\n",
    "#### What is profiling?\n",
    "\n",
    "Profiling is the analysis of how the code behaves in relation to the resources it's using. It can be in relation to space (memory) or time complexity of a program, the usage of particular instructions, or the frequency and duration of function calls.\n",
    "\n",
    "- Algorithmic complexity\n",
    "- Profilers for Python\n",
    "- The ecossystem\n",
    "- Tips & Techniques\n",
    "- (OPT //- Difference between Multiprocessing, multithreading, async io (MAYBE) (read chap 19 from Luciano's)"
   ]
  },
  {
   "cell_type": "markdown",
   "id": "a06bdfb7-36b6-4e23-99ac-6d7b6632c7a6",
   "metadata": {},
   "source": [
    "## Algorithmic complexity\n"
   ]
  },
  {
   "cell_type": "code",
   "execution_count": null,
   "id": "dbc24e0a-c085-46c9-b6a4-41b1f116b5bf",
   "metadata": {},
   "outputs": [],
   "source": [
    "def foo(i):\n",
    "    answer = 1\n",
    "    while i >= 1:\n",
    "        answer *= i\n",
    "        i -= 1\n",
    "    return answer"
   ]
  },
  {
   "cell_type": "markdown",
   "id": "081e463d-5e6e-4a5d-95a7-18beae7b8c35",
   "metadata": {},
   "source": [
    "👥 What are some ways you would try to measure how long this function would take to run?"
   ]
  },
  {
   "cell_type": "code",
   "execution_count": null,
   "id": "4e992309-96d1-45bd-b27c-67f7d5f40af1",
   "metadata": {},
   "outputs": [],
   "source": [
    "# using time\n",
    "import datetime\n",
    "\n",
    "tstart = None\n",
    "tend = None\n",
    "\n",
    "def start_time():\n",
    "    global tstart\n",
    "    tstart = datetime.datetime.now()\n",
    "\n",
    "def get_delta():\n",
    "    global tstart\n",
    "    tend = datetime.datetime.now()\n",
    "    return tend - tstart"
   ]
  },
  {
   "cell_type": "code",
   "execution_count": null,
   "id": "2bce2d47-097d-4e2d-a1d4-6ade45c4dc27",
   "metadata": {},
   "outputs": [],
   "source": [
    "start_time()\n",
    "print('start foo')\n",
    "delta1 = get_detal()\n",
    "\n",
    "start_time()\n",
    "fooTime = foo(100)\n",
    "delta2 = get_delta()"
   ]
  },
  {
   "cell_type": "markdown",
   "id": "54e43844-b7c5-4653-9ec5-f47383efd1d4",
   "metadata": {},
   "source": [
    "Let's use a random accesss machine as our model with sequential steps."
   ]
  },
  {
   "cell_type": "code",
   "execution_count": null,
   "id": "47ee896e-3c97-4810-a304-3885fd07ada4",
   "metadata": {},
   "outputs": [],
   "source": [
    "def linearSearch(List, val):\n",
    "    for element in List:\n",
    "        if element == val:\n",
    "            return True"
   ]
  },
  {
   "cell_type": "markdown",
   "id": "a8a4719c-6724-4cdd-843f-0f654611b263",
   "metadata": {},
   "source": [
    "👥 What happens to this function run-time if my array is:\n",
    "- a) Very large\n",
    "- b) Very small\n",
    "- c) Ordered\n",
    "- d) Unordered"
   ]
  },
  {
   "cell_type": "markdown",
   "id": "c84dbae8-1c46-4663-a9b0-7a1db1adb9b7",
   "metadata": {},
   "source": [
    "### Asymptotic notation\n",
    "\n",
    "Used to classify algorithms according to how their run time or space requirements grow as the input size grows."
   ]
  },
  {
   "cell_type": "code",
   "execution_count": null,
   "id": "5a4e1e5b-0e1a-45af-a74f-43056af6d1f9",
   "metadata": {},
   "outputs": [],
   "source": [
    "def foo(x):\n",
    "    ans = 0\n",
    "    for i in range (1000):\n",
    "        ans += 1\n",
    "    for i in range(x):\n",
    "        ans += 1\n",
    "    for i in range(x):\n",
    "        for j in range(x):\n",
    "            ans += 1\n",
    "            ans += 1"
   ]
  },
  {
   "cell_type": "markdown",
   "id": "7176e7b9-a7c6-472a-9b61-d46416b25349",
   "metadata": {},
   "source": [
    "This function's steps iterations be described as:\n",
    "\n",
    "1000 + x + 2x²"
   ]
  },
  {
   "cell_type": "markdown",
   "id": "f0ecd50c-70e9-4d3b-b230-dda0a0e03b3a",
   "metadata": {},
   "source": [
    "The most commonly used asymptotic notation is called Big O, it's used to give an upper bound on the asymptotic growth of a function.\n",
    "\n",
    "For example: O(n²) means the function grows no faster than the quadratic polynomial n².\n",
    "\n",
    "The most common complexity classes:\n",
    "\n",
    "- O(1) constant running time\n",
    "- O(log n) logarithmic running time\n",
    "- O(n) linear running time\n",
    "- O(n^k) polynomial  running time\n",
    "- O(c^n) exponential running time. n = a power based on the size of the input"
   ]
  },
  {
   "cell_type": "markdown",
   "id": "a16a3f06-78bf-4b88-97ed-d053b11eff2d",
   "metadata": {},
   "source": [
    "**Constant**\n",
    "\n",
    "Several [Python operations](https://wiki.python.org/moin/TimeComplexity) are constant!"
   ]
  },
  {
   "cell_type": "markdown",
   "id": "e453b035-426e-48e4-8200-0b435b0eeb35",
   "metadata": {},
   "source": [
    "**Logarithmic**\n",
    "\n",
    "Here we don't care if we're using different bases because their difference is merely a constant multiplicative factor."
   ]
  },
  {
   "cell_type": "code",
   "execution_count": null,
   "id": "3219ead4-40c9-4d1a-812d-f77990d52929",
   "metadata": {},
   "outputs": [],
   "source": [
    "def intToStr(i):\n",
    "    digits = '0123456789'\n",
    "    if i == 0:\n",
    "        return '0'\n",
    "    result = ''\n",
    "    while i > 0:\n",
    "        result = digits[i % 10] + result\n",
    "        i = i/10\n",
    "    return result"
   ]
  },
  {
   "cell_type": "markdown",
   "id": "170f98d1-8c11-4c3c-9e93-68ebd09f5db3",
   "metadata": {},
   "source": [
    "👥 Can you tell why the next function is O(log n)?"
   ]
  },
  {
   "cell_type": "code",
   "execution_count": null,
   "id": "96717ec0-a434-4a89-a063-9f762df2d7eb",
   "metadata": {},
   "outputs": [],
   "source": [
    "def addDigits(n):\n",
    "    stringRep = intToStr(n)\n",
    "    val = 0\n",
    "    for c in stringRep:\n",
    "        val += int(c)\n",
    "    return val"
   ]
  },
  {
   "cell_type": "markdown",
   "id": "d5180275-8055-4648-8b2c-e0421fcd353f",
   "metadata": {},
   "source": [
    "The complexity of converting 𝑛 to a string is 𝑂(log𝑛), and intToStr returns a string of length 𝑂(log𝑛). The for loop will be executed 𝑂(len(stringRep)) times, i.e., 𝑂(log𝑛) times. Putting it all together, and assuming that a character representing a digit can be converted to an integer in constant time, the program will run in time proportional to 𝑂(log𝑛)+𝑂(log𝑛), which makes it 𝑂(log𝑛)."
   ]
  },
  {
   "cell_type": "markdown",
   "id": "5395aff6-d686-4e61-b81b-9034c730f936",
   "metadata": {},
   "source": [
    "**Exponential complexity**\n",
    "\n",
    "Often recursive algorithms that solve a problem of size N by recursively solving smaller problems of size N-1.\n",
    "\n",
    "- Breaking a password"
   ]
  },
  {
   "cell_type": "markdown",
   "id": "84df621a-12b6-4d77-b747-8475276b7034",
   "metadata": {},
   "source": [
    "### Built-in Jupyter methods"
   ]
  },
  {
   "cell_type": "code",
   "execution_count": 8,
   "id": "dd3dd2db-4aeb-4f39-a4ba-9d77e8ee6d66",
   "metadata": {},
   "outputs": [
    {
     "data": {
      "text/html": [
       "<div>\n",
       "<style scoped>\n",
       "    .dataframe tbody tr th:only-of-type {\n",
       "        vertical-align: middle;\n",
       "    }\n",
       "\n",
       "    .dataframe tbody tr th {\n",
       "        vertical-align: top;\n",
       "    }\n",
       "\n",
       "    .dataframe thead th {\n",
       "        text-align: right;\n",
       "    }\n",
       "</style>\n",
       "<table border=\"1\" class=\"dataframe\">\n",
       "  <thead>\n",
       "    <tr style=\"text-align: right;\">\n",
       "      <th></th>\n",
       "      <th>a</th>\n",
       "      <th>b</th>\n",
       "      <th>N</th>\n",
       "      <th>x</th>\n",
       "    </tr>\n",
       "  </thead>\n",
       "  <tbody>\n",
       "    <tr>\n",
       "      <th>0</th>\n",
       "      <td>-0.768250</td>\n",
       "      <td>1.290252</td>\n",
       "      <td>342</td>\n",
       "      <td>x</td>\n",
       "    </tr>\n",
       "    <tr>\n",
       "      <th>1</th>\n",
       "      <td>0.930606</td>\n",
       "      <td>0.606400</td>\n",
       "      <td>270</td>\n",
       "      <td>x</td>\n",
       "    </tr>\n",
       "    <tr>\n",
       "      <th>2</th>\n",
       "      <td>0.058078</td>\n",
       "      <td>-0.324894</td>\n",
       "      <td>596</td>\n",
       "      <td>x</td>\n",
       "    </tr>\n",
       "    <tr>\n",
       "      <th>3</th>\n",
       "      <td>0.318598</td>\n",
       "      <td>-1.343317</td>\n",
       "      <td>403</td>\n",
       "      <td>x</td>\n",
       "    </tr>\n",
       "    <tr>\n",
       "      <th>4</th>\n",
       "      <td>-0.460761</td>\n",
       "      <td>1.472222</td>\n",
       "      <td>123</td>\n",
       "      <td>x</td>\n",
       "    </tr>\n",
       "    <tr>\n",
       "      <th>...</th>\n",
       "      <td>...</td>\n",
       "      <td>...</td>\n",
       "      <td>...</td>\n",
       "      <td>...</td>\n",
       "    </tr>\n",
       "    <tr>\n",
       "      <th>995</th>\n",
       "      <td>-0.833435</td>\n",
       "      <td>-0.570195</td>\n",
       "      <td>558</td>\n",
       "      <td>x</td>\n",
       "    </tr>\n",
       "    <tr>\n",
       "      <th>996</th>\n",
       "      <td>-0.356861</td>\n",
       "      <td>0.604569</td>\n",
       "      <td>508</td>\n",
       "      <td>x</td>\n",
       "    </tr>\n",
       "    <tr>\n",
       "      <th>997</th>\n",
       "      <td>0.186917</td>\n",
       "      <td>-1.859684</td>\n",
       "      <td>602</td>\n",
       "      <td>x</td>\n",
       "    </tr>\n",
       "    <tr>\n",
       "      <th>998</th>\n",
       "      <td>-0.721102</td>\n",
       "      <td>0.462842</td>\n",
       "      <td>285</td>\n",
       "      <td>x</td>\n",
       "    </tr>\n",
       "    <tr>\n",
       "      <th>999</th>\n",
       "      <td>-0.802408</td>\n",
       "      <td>0.738128</td>\n",
       "      <td>425</td>\n",
       "      <td>x</td>\n",
       "    </tr>\n",
       "  </tbody>\n",
       "</table>\n",
       "<p>1000 rows × 4 columns</p>\n",
       "</div>"
      ],
      "text/plain": [
       "            a         b    N  x\n",
       "0   -0.768250  1.290252  342  x\n",
       "1    0.930606  0.606400  270  x\n",
       "2    0.058078 -0.324894  596  x\n",
       "3    0.318598 -1.343317  403  x\n",
       "4   -0.460761  1.472222  123  x\n",
       "..        ...       ...  ... ..\n",
       "995 -0.833435 -0.570195  558  x\n",
       "996 -0.356861  0.604569  508  x\n",
       "997  0.186917 -1.859684  602  x\n",
       "998 -0.721102  0.462842  285  x\n",
       "999 -0.802408  0.738128  425  x\n",
       "\n",
       "[1000 rows x 4 columns]"
      ]
     },
     "execution_count": 8,
     "metadata": {},
     "output_type": "execute_result"
    }
   ],
   "source": [
    "import pandas as pd\n",
    "import numpy as np\n",
    "\n",
    "\n",
    "df = pd.DataFrame({\n",
    "        \"a\": np.random.randn(1000),\n",
    "        \"b\": np.random.randn(1000),\n",
    "        \"N\": np.random.randint(100, 1000, (1000)),\n",
    "        \"x\": \"x\",\n",
    "    })\n",
    "df"
   ]
  },
  {
   "cell_type": "code",
   "execution_count": 9,
   "id": "185595dc-8b0c-4a05-b062-324605f967b4",
   "metadata": {},
   "outputs": [],
   "source": [
    "def f(x):\n",
    "    return x * (x - 1)\n",
    "\n",
    "def integrate_f(a, b, N):\n",
    "    s = 0\n",
    "    dx = (b - a) / N\n",
    "\n",
    "    for i in range(N):\n",
    "        s += f(a + i * dx)\n",
    "\n",
    "    return s * dx"
   ]
  },
  {
   "cell_type": "code",
   "execution_count": 10,
   "id": "2deec570-74f9-4631-bfbf-29fc817a8aa3",
   "metadata": {},
   "outputs": [
    {
     "name": "stdout",
     "output_type": "stream",
     "text": [
      "58.6 ms ± 101 µs per loop (mean ± std. dev. of 7 runs, 10 loops each)\n"
     ]
    }
   ],
   "source": [
    "%timeit df.apply(lambda x: integrate_f(x[\"a\"], x[\"b\"], x[\"N\"]), axis=1)"
   ]
  },
  {
   "cell_type": "code",
   "execution_count": 12,
   "id": "e57fb135-8e1e-46ba-984d-e88b1a66320a",
   "metadata": {},
   "outputs": [
    {
     "name": "stdout",
     "output_type": "stream",
     "text": [
      " "
     ]
    },
    {
     "data": {
      "text/plain": [
       "         638134 function calls (638116 primitive calls) in 0.120 seconds\n",
       "\n",
       "   Ordered by: internal time\n",
       "   List reduced from 222 to 4 due to restriction <4>\n",
       "\n",
       "   ncalls  tottime  percall  cumtime  percall filename:lineno(function)\n",
       "     1000    0.066    0.000    0.096    0.000 4281555139.py:4(integrate_f)\n",
       "   552216    0.030    0.000    0.030    0.000 4281555139.py:1(f)\n",
       "     3000    0.003    0.000    0.014    0.000 series.py:943(__getitem__)\n",
       "     1003    0.002    0.000    0.003    0.000 series.py:640(name)"
      ]
     },
     "metadata": {},
     "output_type": "display_data"
    }
   ],
   "source": [
    "%prun -l 4 df.apply(lambda x: integrate_f(x[\"a\"], x[\"b\"], x[\"N\"]), axis=1)  # noqa E999"
   ]
  },
  {
   "cell_type": "markdown",
   "id": "8918c083-e0e5-42fe-bf54-193e73a81a17",
   "metadata": {},
   "source": [
    "### Tracing\n",
    "\n",
    "`sys.setprofile` sets a trace function that's triggered every time the VM enters or exits both Python and C functions."
   ]
  },
  {
   "cell_type": "code",
   "execution_count": null,
   "id": "6c244630-261e-4980-bdac-553bcd3d9e49",
   "metadata": {},
   "outputs": [],
   "source": [
    "# ⚠️ Run this code on your Python CLI\n",
    "\n",
    "# def fib(n):\n",
    "#     i, f1, f2 = 1, 1, 1\n",
    "#     while i < n:\n",
    "#         f1, f2 = f2, f1 + f2\n",
    "#         i += 1\n",
    "#     return f1\n",
    "\n",
    "# import opcode\n",
    "\n",
    "\n",
    "# def show_trace(frame, event, arg):\n",
    "#     frame.f_trace_opcodes = True\n",
    "#     code = frame.f_code\n",
    "#     offset = frame.f_lasti\n",
    "\n",
    "#     print(f\"| {event:10} | {str(arg):>4} |\", end=' ')\n",
    "#     print(f\"{frame.f_lineno:>4} | {frame.f_lasti:>6} |\", end=' ')\n",
    "#     print(f\"{opcode.opname[code.co_code[offset]]:<18} | {str(frame.f_locals):<35} |\")\n",
    "#     return show_trace\n",
    "\n",
    "# import sys\n",
    "\n",
    "# header = f\"| {'event':10} | {'arg':>4} | line | offset | {'opcode':^18} | {'locals':^35} |\"\n",
    "# print(header)\n",
    "# sys.settrace(show_trace)\n",
    "# fib(3)\n",
    "# sys.settrace(None)"
   ]
  },
  {
   "cell_type": "markdown",
   "id": "f06ebfe2-0259-4be0-84d9-d5140347158a",
   "metadata": {},
   "source": [
    "### Deterministic profiling\n",
    "\n",
    "#### cProfile\n",
    "\n",
    "- Offers you both the total running time of cProfile.run(statement, filename=None, sort=-1)a software as well as specific function calls and times\n",
    "- Nice integration with GUI tools and pstats"
   ]
  },
  {
   "cell_type": "code",
   "execution_count": null,
   "id": "9b4c8b2d-76b7-43fe-aa97-9de636957f2d",
   "metadata": {},
   "outputs": [],
   "source": [
    "import cProfile\n",
    "\n",
    "# cProfile.run(statement, filename=None, sort=-1)"
   ]
  },
  {
   "cell_type": "markdown",
   "id": "9fce072d-e563-417e-9c4b-8425a38e4dda",
   "metadata": {},
   "source": [
    "You can pass python code or a function name that you want to profile as a string to the statement argument."
   ]
  },
  {
   "cell_type": "code",
   "execution_count": null,
   "id": "8fe3c1dd-f11f-472f-a284-788a28f3dde8",
   "metadata": {},
   "outputs": [],
   "source": [
    "import numpy as np\n",
    "\n",
    "cProfile.run(\"2**200000\")"
   ]
  },
  {
   "cell_type": "markdown",
   "id": "0c646f5f-81cb-4c7d-aa47-3398ee83a559",
   "metadata": {},
   "source": [
    "- ncalls : Shows the number of calls made\n",
    "- tottime: Total time taken by the given function. Note that the time made in calls to sub-functions are excluded.\n",
    "- percall: Total time / No of calls. ( remainder is left out )\n",
    "- cumtime: Unlike tottime, this includes time spent in this and all subfunctions that the higher-level function calls. It is most useful and is accurate for recursive functions.\n",
    "- The percall following cumtime is calculated as the quotient of cumtime divided by primitive calls. The primitive calls include all the calls that were not included through recursion."
   ]
  },
  {
   "cell_type": "code",
   "execution_count": null,
   "id": "9a78399e-020a-4f32-9bdf-fa82d9735c53",
   "metadata": {},
   "outputs": [],
   "source": [
    "def add_emoji():\n",
    "    arr=[]\n",
    "    arr.append('🔥')\n",
    "\n",
    "def multiply():\n",
    "    arr=[]\n",
    "    for i in range(0,400000):\n",
    "        arr.append(i * 2)\n",
    "        add_emoji()\n",
    "\n",
    "def main():\n",
    "    multiply()\n",
    "    print('end')\n",
    "\n",
    "if __name__ == '__main__':\n",
    "    cProfile.run('main()')"
   ]
  },
  {
   "cell_type": "markdown",
   "id": "2ae43964-742d-46a0-b8d7-59acd203a6e3",
   "metadata": {},
   "source": [
    "You can save the data using the following:"
   ]
  },
  {
   "cell_type": "code",
   "execution_count": null,
   "id": "1529173c-e468-400c-a147-1fcd9c678557",
   "metadata": {},
   "outputs": [],
   "source": [
    "import cProfile, pstats\n",
    "profiler = cProfile.Profile()\n",
    "stats = pstats.Stats(profiler)\n",
    "stats.dump_stats('/content/export-data')"
   ]
  },
  {
   "cell_type": "code",
   "execution_count": null,
   "id": "46f87590-0334-496c-abb6-21dc4129a39d",
   "metadata": {},
   "outputs": [],
   "source": [
    "And use a GUI to visualize it called snakeviz:"
   ]
  },
  {
   "cell_type": "code",
   "execution_count": null,
   "id": "cfbfea3b-dbe2-42bf-98af-65e8a831517d",
   "metadata": {},
   "outputs": [],
   "source": [
    "# installing the module\n",
    "!pip install snakeviz"
   ]
  },
  {
   "cell_type": "code",
   "execution_count": null,
   "id": "9be55eed-3fe2-4360-876d-d979b795cdcb",
   "metadata": {},
   "outputs": [],
   "source": [
    "# load it on the notebook\n",
    "%load_ext snakeviz <filename>"
   ]
  },
  {
   "cell_type": "code",
   "execution_count": null,
   "id": "a79b1034-a76c-4485-8a18-6bea48a58f94",
   "metadata": {},
   "outputs": [],
   "source": [
    "# opens snakeviz\n",
    "%snakeviz main()"
   ]
  },
  {
   "cell_type": "markdown",
   "id": "4c0f6798-e58a-4d64-ad29-ca7d4e145c19",
   "metadata": {},
   "source": [
    "cProfile has a lot more to offer and I recommend checking the [Python docs](https://docs.python.org/3/library/profile.html#module-cProfile) to learn more about its specific functions."
   ]
  },
  {
   "cell_type": "markdown",
   "id": "6d530898-283b-4468-bb5a-4526511cea22",
   "metadata": {},
   "source": [
    "### Statistical profiling\n",
    "\n",
    "Samples the program counter at regular intervals. The numbers will be statistical approximations instead of exact numbers because of the several process in place.\n",
    "\n",
    "- Less data to analyze\n",
    "- Smaller profiling footprint"
   ]
  },
  {
   "cell_type": "markdown",
   "id": "74fb4b5a-16b3-4b57-bb6c-0192cda7a1ef",
   "metadata": {},
   "source": [
    "#### pprofile\n",
    "\n",
    "pprofile offers both deterministic and statistical modes for profiling. We're going to take a look in the statistical mode:"
   ]
  },
  {
   "cell_type": "code",
   "execution_count": null,
   "id": "4e90c6cb-f9f8-4fe0-ab6b-9daf4a2e2711",
   "metadata": {},
   "outputs": [],
   "source": [
    "# import threading\n",
    "# import time\n",
    "\n",
    "\n",
    "# def func():\n",
    "#     time.sleep(1)\n",
    "\n",
    "# def func2():\n",
    "#     pass\n",
    "\n",
    "# t1 = threading.Thread(target=func)\n",
    "# t2 = threading.Thread(target=func)\n",
    "# t1.start()\n",
    "# t2.start()\n",
    "# (func(), func2())\n",
    "# t1.join()\n",
    "# t2.join()"
   ]
  },
  {
   "cell_type": "markdown",
   "id": "39e5cf23-7c39-4026-8156-ea6eccbb8728",
   "metadata": {},
   "source": [
    "In statistic profiling mode, pprofile periodically snapshots the current callstack(s) of current process to see what is being executed. As a result, profiler overhead can be dramatically reduced, making it possible to profile real workloads. But, of course, the information provided by this method is less precise."
   ]
  },
  {
   "cell_type": "code",
   "execution_count": 1,
   "id": "48156e9d-7c99-4885-8aa4-8ee3d86858b6",
   "metadata": {},
   "outputs": [],
   "source": [
    "# Fluent Python's implementation of a time function\n",
    "import time\n",
    "\n",
    "def clock(func):\n",
    "    def clocked(*args):\n",
    "        t0 = time.time()\n",
    "        result = func(*args)\n",
    "        elapsed = time.time() - t0\n",
    "        name = func.__name__\n",
    "        arg_str = ', '.join(repr(arg) for arg in args)\n",
    "        print('[%0.8fs] %s(%s) -> %r' % (elapsed, name, arg_str, result))\n",
    "        return result\n",
    "    return clocked"
   ]
  },
  {
   "cell_type": "code",
   "execution_count": 2,
   "id": "fda79979-518a-4c76-b891-8ba708d92da8",
   "metadata": {},
   "outputs": [
    {
     "name": "stdout",
     "output_type": "stream",
     "text": [
      "[0.00000119s] fibonacci(0) -> 0\n",
      "[0.00000191s] fibonacci(1) -> 1\n",
      "[0.00314498s] fibonacci(2) -> 1\n",
      "[0.00000095s] fibonacci(1) -> 1\n",
      "[0.00000119s] fibonacci(0) -> 0\n",
      "[0.00000000s] fibonacci(1) -> 1\n",
      "[0.00002289s] fibonacci(2) -> 1\n",
      "[0.00004292s] fibonacci(3) -> 2\n",
      "[0.00321102s] fibonacci(4) -> 3\n",
      "3\n"
     ]
    }
   ],
   "source": [
    "@clock\n",
    "def fibonacci(n):\n",
    "    if n < 2:\n",
    "        return n\n",
    "    return fibonacci(n - 2) + fibonacci(n - 1)\n",
    "\n",
    "print(fibonacci(4))"
   ]
  },
  {
   "cell_type": "code",
   "execution_count": 3,
   "id": "87875f4f-55b1-4c8d-bcd0-30c7b3befa58",
   "metadata": {},
   "outputs": [
    {
     "name": "stdout",
     "output_type": "stream",
     "text": [
      "[0.00000000s] fibonacci(0) -> 0\n",
      "[0.00000095s] fibonacci(1) -> 1\n",
      "[0.00005412s] fibonacci(2) -> 1\n",
      "[0.00000095s] fibonacci(3) -> 2\n",
      "[0.00006294s] fibonacci(4) -> 3\n",
      "3\n"
     ]
    }
   ],
   "source": [
    "import functools \n",
    "\n",
    "@functools.cache\n",
    "@clock\n",
    "def fibonacci(n):\n",
    "    if n < 2:\n",
    "        return n\n",
    "    return fibonacci(n - 2) + fibonacci(n - 1)\n",
    "\n",
    "print(fibonacci(4))"
   ]
  },
  {
   "cell_type": "markdown",
   "id": "4bdffd60-cf37-42b4-b79a-36ac0b9d44af",
   "metadata": {},
   "source": [
    "All the arguments taken by the decorated function must be hashable, because the underlying lru_cache uses a dict to store the results"
   ]
  },
  {
   "cell_type": "markdown",
   "id": "c7365132-c8e7-4362-a350-76b770f5d932",
   "metadata": {},
   "source": [
    "`@cache` won't be available to you if your Python < 3.8, but you can still use `@lru_cache`.\n",
    "\n",
    "`@lru_cache` contains two arguments, `maxsize` which receives an integer containing the maximum number of entries to be stored and `typed` which receives a boolean that will say if arguments ought to be stored separately."
   ]
  }
 ],
 "metadata": {
  "kernelspec": {
   "display_name": "Python 3 (ipykernel)",
   "language": "python",
   "name": "python3"
  },
  "language_info": {
   "codemirror_mode": {
    "name": "ipython",
    "version": 3
   },
   "file_extension": ".py",
   "mimetype": "text/x-python",
   "name": "python",
   "nbconvert_exporter": "python",
   "pygments_lexer": "ipython3",
   "version": "3.9.11"
  }
 },
 "nbformat": 4,
 "nbformat_minor": 5
}
