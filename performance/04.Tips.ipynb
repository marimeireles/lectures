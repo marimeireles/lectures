{
 "cells": [
  {
   "cell_type": "markdown",
   "id": "8c8cf1f4-94d9-49cb-897e-d1950178a146",
   "metadata": {},
   "source": [
    "## Tips & techniques \n",
    "\n",
    "Profiling and optimizing code is a very broad subject, full of rabbit holes. The more you get into it the more you find out how much more you can optmize and how much better your tests could be done. It's also important to understand when to stop.\n",
    "\n",
    "Careful to not fall into the over optimizing trap!\n",
    "\n",
    "If you intend to open source your code, clarity might be much more relevant than squeezing every drop of performance of your scripts.\n",
    "\n",
    "In this notebook I share a few things I picked up learning about scientific software performance. These were written with the scientific development in Python in mind. If you're doing something different, like, profiling web environment, for example, they might be completely irrelevant. They might still be irrelevant inside the scientific software ecossystem, as many variables play a role on which kind of treatment you should give to data, as we've seen in previous sessions."
   ]
  },
  {
   "cell_type": "markdown",
   "id": "a9ed7104-4fc1-4a4b-a234-24431e69d413",
   "metadata": {},
   "source": [
    "#### #1 Generators are faster than list comprehensions"
   ]
  },
  {
   "cell_type": "code",
   "execution_count": null,
   "id": "e17a75c0-58e4-41ae-9d02-b33814e715b2",
   "metadata": {},
   "outputs": [],
   "source": [
    "from sys import getsizeof\n",
    "\n",
    "comp = [i for i in range(10000)]\n",
    "gen = (i for i in range(10000))\n",
    "\n",
    "#gives size for list comprehension\n",
    "x = getsizeof(comp)\n",
    "print(\"x = \", x)\n",
    "\n",
    "#gives size for generator expression\n",
    "y = getsizeof(gen)\n",
    "print(\"y = \", y)"
   ]
  },
  {
   "cell_type": "code",
   "execution_count": null,
   "id": "78b4a989-795a-4515-9e29-a406bf6708b6",
   "metadata": {},
   "outputs": [],
   "source": [
    "#List Comprehension:\n",
    "import timeit\n",
    "\n",
    "print(timeit.timeit('''list_com = [i for i in range(100) if i % 2 == 0]''', number=1000000))"
   ]
  },
  {
   "cell_type": "code",
   "execution_count": null,
   "id": "1187a008-2e89-4305-b4c3-4c068a57e096",
   "metadata": {},
   "outputs": [],
   "source": [
    "#Generator Expression:\n",
    "import timeit\n",
    "\n",
    "print(timeit.timeit('''gen_exp = (i for i in range(100) if i % 2 == 0)''', number=1000000))"
   ]
  },
  {
   "cell_type": "markdown",
   "id": "90effd06-f8c2-4dd1-be70-4bbea31d60a9",
   "metadata": {},
   "source": [
    "#### #3 Tuples are faster than Lists\n",
    "\n",
    "Use Tuples as Immutable Lists.\n",
    "The Python interpreter and standard library make extensive use of tuples as immutable lists, and so should you. This brings two key benefits:\n",
    "Clarity: When you see a tuple in code, you know its length will never change.\n",
    "Performance: A tuple uses less memory than a list of the same length, and it allows Python to do some optimizations."
   ]
  },
  {
   "cell_type": "markdown",
   "id": "ffef9c18-7855-40b0-ba6c-4ebf8085e143",
   "metadata": {
    "tags": []
   },
   "source": [
    "#### #2 Prefer dictionaries\n",
    "\n",
    "If you can't use `set`s the next best thing might be a `dict`, depending on your user case. The following table can be found on the [Fluent Python](https://www.fluentpython.com) website:\n",
    "\n",
    "<br>\n",
    "\n",
    "![ditc_set_compar](https://www.fluentpython.com/extra/internals-of-sets-and-dicts/images/table-dict-set-list-time.png)"
   ]
  },
  {
   "cell_type": "markdown",
   "id": "f894ef1a-1626-40b8-b542-d08f15095dec",
   "metadata": {},
   "source": [
    "#### #4 Chained comparisons are good\n",
    "\n",
    "When comparing three variables with each other, instead of doing `x < y and y < z`, you can use `x < y < z`.\n",
    "This should prove easier to read (more natural) and faster to run.\n",
    "\n",
    "#### #5 When possible, sort by the key\n",
    "\n",
    "When doing a custom sort on a list, try not to sort using a comparison function. Instead, when possible, sort by the key. This is because the key function will be called only once per item, whereas the comparison function will be called several times per item during the process. \n",
    "\n",
    "#### #6 Sorting can be very costly, learn about the main algorithms\n",
    "\n",
    "[Here](https://realpython.com/sorting-algorithms-python/)'s a recommended source to learn about Python's implementation on some common algorithms.\n",
    "If you prefer a more in depth approach, check the chapter on sorting of Introduction to Algorithms (Cormen, et al.).\n",
    "\n",
    "#### #7 Sampling\n",
    "\n",
    "Even if you have a lot of data, there might not be much advantage from using all of it. By sampling intelligently you might be able to derive the same insight from a much more manageable subset.\n",
    "\n",
    "#### #8 I/O is very costly\n",
    "\n",
    "- For compression you’ll probably find that you drop gzip and bz2, and embrace newer systems like lz4, snappy, and Z-Standard that provide better performance and random access.\n",
    "- For storage formats you may find that you want self-describing formats that are optimized for random access, metadata storage, and binary encoding like Parquet, ORC, Zarr, HDF5, and GeoTIFF.\n",
    "- When working on the cloud you may find that some older formats like HDF5 may not work as well.\n",
    "- You may want to partition or chunk your data in ways that align well to common queries. In Dask DataFrame this might mean choosing a column to sort by for fast selection and joins. For Dask Array this might mean choosing chunk sizes that are aligned with your access patterns and algorithms.\n"
   ]
  },
  {
   "cell_type": "markdown",
   "id": "56fff9d6-28bb-49c2-a6da-e3a1d1070a61",
   "metadata": {
    "tags": []
   },
   "source": [
    "## Techniques\n",
    "\n",
    "### Memoization\n",
    "\n",
    "This is an optimization technique that saves the results of previous invocations of functions."
   ]
  },
  {
   "cell_type": "code",
   "execution_count": null,
   "id": "3381c16e-2363-4dd3-a8b1-eb7d8c4ccfea",
   "metadata": {},
   "outputs": [],
   "source": [
    "# Fluent Python's implementation of a time function\n",
    "import time\n",
    "\n",
    "def clock(func):\n",
    "    def clocked(*args):\n",
    "        t0 = time.time()\n",
    "        result = func(*args)\n",
    "        elapsed = time.time() - t0\n",
    "        name = func.__name__\n",
    "        arg_str = ', '.join(repr(arg) for arg in args)\n",
    "        print('[%0.8fs] %s(%s) -> %r' % (elapsed, name, arg_str, result))\n",
    "        return result\n",
    "    return clocked"
   ]
  },
  {
   "cell_type": "code",
   "execution_count": null,
   "id": "d0a1ee5f-b112-468e-b1cc-4cb00f457993",
   "metadata": {},
   "outputs": [],
   "source": [
    "@clock\n",
    "def fibonacci(n):\n",
    "    if n < 2:\n",
    "        return n\n",
    "    return fibonacci(n - 2) + fibonacci(n - 1)\n",
    "\n",
    "print(fibonacci(4))"
   ]
  },
  {
   "cell_type": "code",
   "execution_count": null,
   "id": "22d01206-c6d7-4db4-96c3-ade701b3e424",
   "metadata": {},
   "outputs": [],
   "source": [
    "import functools \n",
    "\n",
    "@functools.cache\n",
    "@clock\n",
    "def fibonacci(n):\n",
    "    if n < 2:\n",
    "        return n\n",
    "    return fibonacci(n - 2) + fibonacci(n - 1)\n",
    "\n",
    "print(fibonacci(4))"
   ]
  },
  {
   "cell_type": "markdown",
   "id": "f8d37b26-e38a-4287-a496-d15dcd4ecc55",
   "metadata": {},
   "source": [
    "All the arguments taken by the decorated function must be hashable, because the underlying lru_cache uses a dict to store the results"
   ]
  },
  {
   "cell_type": "markdown",
   "id": "09c95b1d-c46e-4b50-b6c2-3240f0002c9c",
   "metadata": {},
   "source": [
    "`@cache` won't be available to you if your Python < 3.8, but you can still use `@lru_cache`.\n",
    "\n",
    "`@lru_cache` contains two arguments, `maxsize` which receives an integer containing the maximum number of entries to be stored and `typed` which receives a boolean that will say if arguments ought to be stored separately."
   ]
  }
 ],
 "metadata": {
  "kernelspec": {
   "display_name": "Python 3 (ipykernel)",
   "language": "python",
   "name": "python3"
  },
  "language_info": {
   "codemirror_mode": {
    "name": "ipython",
    "version": 3
   },
   "file_extension": ".py",
   "mimetype": "text/x-python",
   "name": "python",
   "nbconvert_exporter": "python",
   "pygments_lexer": "ipython3",
   "version": "3.9.11"
  }
 },
 "nbformat": 4,
 "nbformat_minor": 5
}
